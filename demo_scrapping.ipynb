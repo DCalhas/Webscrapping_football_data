{
 "cells": [
  {
   "cell_type": "code",
   "execution_count": 1,
   "metadata": {},
   "outputs": [],
   "source": [
    "from bs4 import BeautifulSoup\n",
    "import urllib3\n"
   ]
  },
  {
   "cell_type": "code",
   "execution_count": 13,
   "metadata": {},
   "outputs": [
    {
     "name": "stdout",
     "output_type": "stream",
     "text": [
      "HELLO\n"
     ]
    },
    {
     "name": "stderr",
     "output_type": "stream",
     "text": [
      "/home/david/anaconda3/lib/python3.7/site-packages/urllib3/connectionpool.py:857: InsecureRequestWarning: Unverified HTTPS request is being made. Adding certificate verification is strongly advised. See: https://urllib3.readthedocs.io/en/latest/advanced-usage.html#ssl-warnings\n",
      "  InsecureRequestWarning)\n"
     ]
    },
    {
     "name": "stdout",
     "output_type": "stream",
     "text": [
      "HELLO\n",
      "<title>Futebol Hoje • Academia das Apostas</title>\n"
     ]
    }
   ],
   "source": [
    "http = urllib3.PoolManager()\n",
    "\n",
    "url = 'https://www.academiadasapostas.com/stats/livescores/popup'\n",
    "print(\"HELLO\")\n",
    "response = http.request('GET', url)\n",
    "print(\"HELLO\")\n",
    "soup = BeautifulSoup(response.data, 'html')\n",
    "\n",
    "print(soup.title)\n",
    "\n",
    "\n",
    "\n",
    "for son in soup.findAll(\"td\", {\"class\":\"score\"}):\n",
    "    print(son.find(\"span\", {\"class\":\"fs_A\"}).text)\n",
    "    print(son.find(\"span\", {\"class\":\"fs_B\"}).text)"
   ]
  },
  {
   "cell_type": "code",
   "execution_count": 117,
   "metadata": {},
   "outputs": [],
   "source": [
    "competition = []\n",
    "home_teams = []\n",
    "away_teams = []\n",
    "scores = []\n",
    "\n",
    "\n",
    "for son in soup.findAll(\"td\", {\"class\":\"flag tipsy-active\"}):\n",
    "    competition += [son['title']]\n",
    "    \n",
    "for son in soup.findAll(\"td\", {\"class\":\"team-a\"}):\n",
    "    home_teams += [son.p.text]\n",
    "\n",
    "for son in soup.findAll(\"td\", {\"class\":\"team-b\"}):\n",
    "    away_teams += [son.p.text]\n",
    "\n",
    "\n",
    "for son in soup.findAll(\"td\", {\"class\":\"score\"}):\n",
    "    s = []\n",
    "    if(son.find(\"span\", {\"class\":\"fs_A\"}).text.strip() == ''):\n",
    "        s += [son.find(\"span\", {\"class\":\"fs_A\"}).text.strip()]\n",
    "        s += [son.find(\"span\", {\"class\":\"fs_B\"}).text.strip()]\n",
    "    else:\n",
    "        s += [int(son.find(\"span\", {\"class\":\"fs_A\"}).text.strip())]\n",
    "        s += [int(son.find(\"span\", {\"class\":\"fs_B\"}).text.strip())]\n",
    "    scores += [s]"
   ]
  },
  {
   "cell_type": "code",
   "execution_count": 118,
   "metadata": {},
   "outputs": [
    {
     "name": "stdout",
     "output_type": "stream",
     "text": [
      "Europa - UEFA Europa League Zenit   Bordeaux\n",
      "Europa - UEFA Europa League Sporting CP   Arsenal\n",
      "Europa - UEFA Europa League Milan   Betis\n",
      "Europa - UEFA Europa League Chelsea   BATE\n",
      "Europa - UEFA Europa League Zurique   Leverkusen\n",
      "Europa - UEFA Europa League AEK   Ludogorets\n",
      "Europa - UEFA Europa League Salzburgo   Rosenborg\n",
      "Europa - UEFA Europa League Leipzig   Celtic\n",
      "Europa - UEFA Europa League Copenhaga   Slavia Praga\n",
      "Europa - UEFA Europa League Anderlecht   Fenerbahçe\n",
      "Europa - UEFA Europa League Trnava   Dinamo Zagreb\n",
      "Europa - UEFA Europa League Karabakh   Vorskla\n",
      "Europa - UEFA Europa League Dudelange   Olympiakos\n",
      "Europa - UEFA Europa League Rangers   Spartak M\n",
      "Europa - UEFA Europa League Villarreal   Rapid Viena\n",
      "Europa - UEFA Europa League St Liege   Krasnodar\n",
      "Europa - UEFA Europa League Sevilla   Akhisar\n",
      "Europa - UEFA Europa League Frankfurt   Apollon Limassol\n",
      "Europa - UEFA Europa League Marselha   Lazio\n",
      "Europa - UEFA Europa League Jablonec   Astana\n",
      "Europa - UEFA Europa League Rennes   Dínamo Kiev\n",
      "Europa - UEFA Europa League Sarpsburgo   Malmo\n",
      "Europa - UEFA Europa League Besiktas   Genk\n",
      "Europa - UEFA Europa League PAOK   Videoton\n",
      "América do Sul - Copa Libertadores Boca 2 0 Palmeiras\n"
     ]
    }
   ],
   "source": [
    "for i in range(len(home_teams)):\n",
    "    print(competition[i], home_teams[i], scores[i][0], scores[i][1], away_teams[i])"
   ]
  },
  {
   "cell_type": "code",
   "execution_count": 122,
   "metadata": {},
   "outputs": [],
   "source": [
    "import csv\n",
    "import datetime\n",
    "\n",
    "with open('daily-results/' + datetime.datetime.today().strftime('%d-%m-%Y') + '.csv', mode='w') as games_file:\n",
    "    games_writer = csv.writer(games_file, delimiter=',', quotechar='\"', quoting=csv.QUOTE_MINIMAL)\n",
    "    \n",
    "    games_writer.writerow([\"competition\", \"home\", \"away\", \"hgoals\", \"agoals\"])\n",
    "    for i in range(len(competition)):\n",
    "        game = [competition[i], home_teams[i], away_teams[i], scores[i][0], scores[i][1]]\n",
    "        games_writer.writerow(game)"
   ]
  },
  {
   "cell_type": "code",
   "execution_count": null,
   "metadata": {},
   "outputs": [],
   "source": []
  }
 ],
 "metadata": {
  "kernelspec": {
   "display_name": "Python 3",
   "language": "python",
   "name": "python3"
  },
  "language_info": {
   "codemirror_mode": {
    "name": "ipython",
    "version": 3
   },
   "file_extension": ".py",
   "mimetype": "text/x-python",
   "name": "python",
   "nbconvert_exporter": "python",
   "pygments_lexer": "ipython3",
   "version": "3.7.0"
  }
 },
 "nbformat": 4,
 "nbformat_minor": 2
}
